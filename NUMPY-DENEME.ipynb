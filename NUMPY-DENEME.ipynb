{
  "nbformat": 4,
  "nbformat_minor": 0,
  "metadata": {
    "colab": {
      "provenance": [],
      "authorship_tag": "ABX9TyOLr8381bKU2a/xLgh/DQiY",
      "include_colab_link": true
    },
    "kernelspec": {
      "name": "python3",
      "display_name": "Python 3"
    },
    "language_info": {
      "name": "python"
    }
  },
  "cells": [
    {
      "cell_type": "markdown",
      "metadata": {
        "id": "view-in-github",
        "colab_type": "text"
      },
      "source": [
        "<a href=\"https://colab.research.google.com/github/BEYZAASLAN/BEYZAASLAN/blob/main/NUMPY-DENEME.ipynb\" target=\"_parent\"><img src=\"https://colab.research.google.com/assets/colab-badge.svg\" alt=\"Open In Colab\"/></a>"
      ]
    },
    {
      "cell_type": "code",
      "execution_count": 5,
      "metadata": {
        "colab": {
          "base_uri": "https://localhost:8080/"
        },
        "id": "iqyozlrHvIY2",
        "outputId": "7196593e-383a-454a-928a-10876e448f07"
      },
      "outputs": [
        {
          "output_type": "execute_result",
          "data": {
            "text/plain": [
              "[2, 3, 4, 5]"
            ]
          },
          "metadata": {},
          "execution_count": 5
        }
      ],
      "source": [
        "a= [1,2,3,4]\n",
        "b=[2,3,4,5]\n",
        "a\n",
        "b"
      ]
    },
    {
      "cell_type": "code",
      "source": [
        "ab =[]\n",
        "for i in  range(0,len(a)):\n",
        "  ab.append(a[i]*b[i])\n",
        "ab"
      ],
      "metadata": {
        "colab": {
          "base_uri": "https://localhost:8080/"
        },
        "id": "NTiP8bIBvYvx",
        "outputId": "0d3ec2fc-7081-41e2-8656-d6939f507817"
      },
      "execution_count": 10,
      "outputs": [
        {
          "output_type": "execute_result",
          "data": {
            "text/plain": [
              "[2, 6, 12, 20]"
            ]
          },
          "metadata": {},
          "execution_count": 10
        }
      ]
    },
    {
      "cell_type": "code",
      "source": [
        "import numpy as np"
      ],
      "metadata": {
        "id": "0T-_Z33zwCNk"
      },
      "execution_count": 12,
      "outputs": []
    },
    {
      "cell_type": "code",
      "source": [
        "dizi1 = np.array([1,2,3,4])\n",
        "dizi2 = np.array([2,3,4,5])\n",
        "dizi1*dizi2"
      ],
      "metadata": {
        "colab": {
          "base_uri": "https://localhost:8080/"
        },
        "id": "69cIvtWQwWh2",
        "outputId": "79e253b8-6d1a-40bc-ef28-3597c5d6de21"
      },
      "execution_count": 17,
      "outputs": [
        {
          "output_type": "execute_result",
          "data": {
            "text/plain": [
              "array([ 2,  6, 12, 20])"
            ]
          },
          "metadata": {},
          "execution_count": 17
        }
      ]
    },
    {
      "cell_type": "code",
      "source": [
        "import numpy as np\n",
        "dizi=np.array(42)\n",
        "print(dizi)"
      ],
      "metadata": {
        "colab": {
          "base_uri": "https://localhost:8080/"
        },
        "id": "TvdW3mIAygDE",
        "outputId": "4f3c3e4d-97bb-4312-e760-321adf8718a7"
      },
      "execution_count": 19,
      "outputs": [
        {
          "output_type": "stream",
          "name": "stdout",
          "text": [
            "42\n"
          ]
        }
      ]
    },
    {
      "cell_type": "code",
      "source": [
        "import numpy as np\n",
        "dizi= np.array([1,2,3,4,5])\n",
        "print(arr)"
      ],
      "metadata": {
        "colab": {
          "base_uri": "https://localhost:8080/"
        },
        "id": "T4EZFV1byuVK",
        "outputId": "aaf914ef-c31c-42ab-9128-a39a2f573edb"
      },
      "execution_count": 21,
      "outputs": [
        {
          "output_type": "stream",
          "name": "stdout",
          "text": [
            "[1 2 3 4 5]\n"
          ]
        }
      ]
    },
    {
      "cell_type": "code",
      "source": [
        "import numpy as np\n",
        "dizi= np.array([[1,2,3],[4,5,6]])\n",
        "print(dizi)"
      ],
      "metadata": {
        "colab": {
          "base_uri": "https://localhost:8080/"
        },
        "id": "qAOdAti4zt7L",
        "outputId": "73aa6f84-4e59-438b-909a-1c8d1bf13c2b"
      },
      "execution_count": 25,
      "outputs": [
        {
          "output_type": "stream",
          "name": "stdout",
          "text": [
            "[[1 2 3]\n",
            " [4 5 6]]\n"
          ]
        }
      ]
    },
    {
      "cell_type": "code",
      "source": [
        "import numpy as np\n",
        "dizi=([[[1,2,3],[4,5,6]],[[1,2,3],[4,5,6]]])\n",
        "print(dizi)\n"
      ],
      "metadata": {
        "colab": {
          "base_uri": "https://localhost:8080/"
        },
        "id": "jzQGIzd50K8N",
        "outputId": "7e623a88-cfc2-4837-93a3-5302ea1170c9"
      },
      "execution_count": 26,
      "outputs": [
        {
          "output_type": "stream",
          "name": "stdout",
          "text": [
            "[[[1, 2, 3], [4, 5, 6]], [[1, 2, 3], [4, 5, 6]]]\n"
          ]
        }
      ]
    },
    {
      "cell_type": "code",
      "source": [
        "#ndim ozelligi kac boyuta sahip oldugunu verir\n",
        "import numpy as np\n",
        "dizi1=np.array(42)\n",
        "dizi2=np.array([1,2,3,4,5])\n",
        "dizi3=np.array([[1,2,3,],[4,5,6]])\n",
        "dizi4=np.array([[[1,2,3],[4,5,6]],[[1,2,3],[4,5,6]]])\n",
        "print(dizi1.ndim)\n",
        "print(dizi2.ndim)\n",
        "print(dizi3.ndim)\n",
        "print(dizi4.ndim)"
      ],
      "metadata": {
        "colab": {
          "base_uri": "https://localhost:8080/"
        },
        "id": "D5Oo4Fat0qj0",
        "outputId": "51fa2ac9-5e7a-43b7-c94d-022fb1409629"
      },
      "execution_count": 30,
      "outputs": [
        {
          "output_type": "stream",
          "name": "stdout",
          "text": [
            "0\n",
            "1\n",
            "2\n",
            "3\n"
          ]
        }
      ]
    },
    {
      "cell_type": "code",
      "source": [
        "import numpy as np\n",
        "dizi= np.array([1,2,3,4])\n",
        "print(dizi[0])"
      ],
      "metadata": {
        "colab": {
          "base_uri": "https://localhost:8080/"
        },
        "id": "2v5vFAZn4l5y",
        "outputId": "4cbea12d-cbf2-4127-a642-ed6f863a0568"
      },
      "execution_count": 32,
      "outputs": [
        {
          "output_type": "stream",
          "name": "stdout",
          "text": [
            "1\n"
          ]
        }
      ]
    },
    {
      "cell_type": "code",
      "source": [
        "import numpy as np\n",
        "dizi = np.array([1,2,3,4])\n",
        "print([dizi[2]+dizi[3]])"
      ],
      "metadata": {
        "colab": {
          "base_uri": "https://localhost:8080/"
        },
        "id": "Q1ySXuV85Dm7",
        "outputId": "7bda0553-bc06-46a1-fad6-0f0d3c919e5a"
      },
      "execution_count": 33,
      "outputs": [
        {
          "output_type": "stream",
          "name": "stdout",
          "text": [
            "[7]\n"
          ]
        }
      ]
    },
    {
      "cell_type": "code",
      "source": [
        "import numpy as np\n",
        "dizi =np.array([[1,2,3,4,5],[6,7,8,9,10]])\n",
        "print('1.boyuttaki 2. eleman:',dizi[0,1])"
      ],
      "metadata": {
        "colab": {
          "base_uri": "https://localhost:8080/"
        },
        "id": "8RKt8Iwe5Vj5",
        "outputId": "4653269e-9f1c-48b0-decd-c42a48777cb3"
      },
      "execution_count": 35,
      "outputs": [
        {
          "output_type": "stream",
          "name": "stdout",
          "text": [
            "1.boyuttaki 2. eleman: 2\n"
          ]
        }
      ]
    },
    {
      "cell_type": "code",
      "source": [
        "import numpy as np\n",
        "dizi=np.array([[1,2,3,4,5],[6,7,8,9,10]])\n",
        "print('2.boyut 5.eleman:',dizi[1,4])\n"
      ],
      "metadata": {
        "colab": {
          "base_uri": "https://localhost:8080/"
        },
        "id": "YaLFqVxg6STC",
        "outputId": "f85396ff-92ce-4ce2-896b-5fc2d1d69bc9"
      },
      "execution_count": 38,
      "outputs": [
        {
          "output_type": "stream",
          "name": "stdout",
          "text": [
            "2.boyut 5.eleman: 10\n"
          ]
        }
      ]
    },
    {
      "cell_type": "code",
      "source": [
        "import numpy as np\n",
        "dizi=np.array([[[1,2,3,],[4,5,6]],[[7,8,9],[10,11,12]]])\n",
        "print(dizi[0,1,2])"
      ],
      "metadata": {
        "colab": {
          "base_uri": "https://localhost:8080/"
        },
        "id": "xpq_WfhA7ZIO",
        "outputId": "4b69ac7b-2a2f-4aab-9812-b20d656aa45a"
      },
      "execution_count": 40,
      "outputs": [
        {
          "output_type": "stream",
          "name": "stdout",
          "text": [
            "6\n"
          ]
        }
      ]
    },
    {
      "cell_type": "code",
      "source": [
        "import numpy as np\n",
        "dizi = np.array([[[1,2,3],[4,5,6],[7,8,9],[10,11,12]]])\n",
        "print(dizi[0,1,2])\n"
      ],
      "metadata": {
        "colab": {
          "base_uri": "https://localhost:8080/"
        },
        "id": "aGnVyoKN71_Q",
        "outputId": "0aac8a74-cec8-4b8f-ac49-fe07e0d2bc81"
      },
      "execution_count": 42,
      "outputs": [
        {
          "output_type": "stream",
          "name": "stdout",
          "text": [
            "6\n"
          ]
        }
      ]
    },
    {
      "cell_type": "code",
      "source": [
        "#diziye sondan bakmak istersek negatif degerler kullanırız\n",
        "\n",
        "import numpy as np\n",
        "dizi=np.array([[1,2,3,4,5],[6,7,8,9,10]])\n",
        "print('2. boyutun son elemanı:', dizi[1,-1])"
      ],
      "metadata": {
        "colab": {
          "base_uri": "https://localhost:8080/"
        },
        "id": "b2fkvJanHBHd",
        "outputId": "853f07ce-34e1-4980-834e-cf42e413925c"
      },
      "execution_count": 45,
      "outputs": [
        {
          "output_type": "stream",
          "name": "stdout",
          "text": [
            "2. boyutun son elemanı: 10\n"
          ]
        }
      ]
    },
    {
      "cell_type": "code",
      "source": [
        "#pythonda dilimleme verilen bir indexten alınan elemanları baska bir indexe tasımaya denir\n",
        "#DİLİM TANIMLAMA  [start: end]\n",
        "# [start: end: step]\n",
        "#start belirtilmezse 0 dır\n",
        "#end belirtilmezse dizi uzunlugudur\n",
        "#step belirtilmezse 1 dir\n"
      ],
      "metadata": {
        "id": "qM9Md4PTH665"
      },
      "execution_count": 47,
      "outputs": []
    },
    {
      "cell_type": "code",
      "source": [
        "import numpy as np\n",
        "dizi =np.array([1,2,3,4,5,6,7])\n",
        "print(dizi[1:5:2])"
      ],
      "metadata": {
        "colab": {
          "base_uri": "https://localhost:8080/"
        },
        "id": "176R0NRiJEkv",
        "outputId": "fc80922a-2a75-497b-e81b-ecf8ecb972c3"
      },
      "execution_count": 48,
      "outputs": [
        {
          "output_type": "stream",
          "name": "stdout",
          "text": [
            "[2 4]\n"
          ]
        }
      ]
    },
    {
      "cell_type": "code",
      "source": [
        "import numpy as np\n",
        "dizi=np.array([1,2,3,4,5,6,7])\n",
        "print(dizi[::2])"
      ],
      "metadata": {
        "colab": {
          "base_uri": "https://localhost:8080/"
        },
        "id": "4XGAlzY9Jfl7",
        "outputId": "4b8fdc02-a115-4e8e-e397-19032bcfb19a"
      },
      "execution_count": 50,
      "outputs": [
        {
          "output_type": "stream",
          "name": "stdout",
          "text": [
            "[1 3 5 7]\n"
          ]
        }
      ]
    },
    {
      "cell_type": "code",
      "source": [
        "import numpy as np\n",
        "dizi=np.array([1,2,3,4,5,6,7])\n",
        "print(dizi[1:5])"
      ],
      "metadata": {
        "colab": {
          "base_uri": "https://localhost:8080/"
        },
        "id": "Ub2RrB9DKOJC",
        "outputId": "87198e78-f5d9-48ef-928d-429c1c4473fa"
      },
      "execution_count": 52,
      "outputs": [
        {
          "output_type": "stream",
          "name": "stdout",
          "text": [
            "[2 3 4 5]\n"
          ]
        }
      ]
    },
    {
      "cell_type": "code",
      "source": [
        "import numpy as np\n",
        "dizi =np.array([1,2,3,4,5,6,7])\n",
        "print([dizi[4::]])\n"
      ],
      "metadata": {
        "colab": {
          "base_uri": "https://localhost:8080/"
        },
        "id": "zuNRgDdyKuT7",
        "outputId": "5c4cfa0d-f6bd-4557-b9df-8dc2a5ae5905"
      },
      "execution_count": 53,
      "outputs": [
        {
          "output_type": "stream",
          "name": "stdout",
          "text": [
            "[array([5, 6, 7])]\n"
          ]
        }
      ]
    },
    {
      "cell_type": "code",
      "source": [
        "import numpy as np\n",
        "dizi=np.array([1,2,3,4,5,6,7])\n",
        "print(dizi[-3:-1])"
      ],
      "metadata": {
        "colab": {
          "base_uri": "https://localhost:8080/"
        },
        "id": "0ussa78qLLeQ",
        "outputId": "6a865ffb-df9f-42f7-a2bb-6183d5c7908a"
      },
      "execution_count": 54,
      "outputs": [
        {
          "output_type": "stream",
          "name": "stdout",
          "text": [
            "[5 6]\n"
          ]
        }
      ]
    },
    {
      "cell_type": "code",
      "source": [
        "import numpy as np\n",
        "dizi=np.array([[1,2,3,4,5],[6,7,8,9,10]])\n",
        "print ([dizi[1,1:4]])"
      ],
      "metadata": {
        "colab": {
          "base_uri": "https://localhost:8080/"
        },
        "id": "gwE3GBnVLgUD",
        "outputId": "089928f9-30dd-41b2-ec14-5480ce73fcf7"
      },
      "execution_count": 56,
      "outputs": [
        {
          "output_type": "stream",
          "name": "stdout",
          "text": [
            "[array([7, 8, 9])]\n"
          ]
        }
      ]
    },
    {
      "cell_type": "code",
      "source": [
        "import numpy as np\n",
        "dizi=np.array([[1,2,3,4,5],[6,7,8,9,10]])\n",
        "print([dizi[0:2,2]]) #ilk iki satırı sec demek bu  bu satırların 2. indislisini cagır\n"
      ],
      "metadata": {
        "colab": {
          "base_uri": "https://localhost:8080/"
        },
        "id": "SKhZT1aRMskn",
        "outputId": "58771125-cfab-49b1-e01f-c4c5c058d004"
      },
      "execution_count": 57,
      "outputs": [
        {
          "output_type": "stream",
          "name": "stdout",
          "text": [
            "[array([3, 8])]\n"
          ]
        }
      ]
    },
    {
      "cell_type": "code",
      "source": [
        "#copy: yeni bir dizi , burdaki degisiklik orjinaı etkilemez orjinaldekide bunu baglamaz\n",
        "#view : orjinal dizinin bir görünümü  burda etki var iki taraflı\n",
        "import numpy as np\n",
        "dizi=np.array([1,2,3,4])\n",
        "print(dizi.dtype)\n"
      ],
      "metadata": {
        "colab": {
          "base_uri": "https://localhost:8080/"
        },
        "id": "tTGxEvUFOBv5",
        "outputId": "31c28750-a89e-4f29-d85a-8256f1926245"
      },
      "execution_count": 59,
      "outputs": [
        {
          "output_type": "stream",
          "name": "stdout",
          "text": [
            "int64\n"
          ]
        }
      ]
    },
    {
      "cell_type": "code",
      "source": [
        "import numpy as np\n",
        "dizi=np.array([1,2,3,4],dtype='i2')\n",
        "print(dizi)\n",
        "print(dizi.dtype)"
      ],
      "metadata": {
        "colab": {
          "base_uri": "https://localhost:8080/"
        },
        "id": "jOUaek-WRCmI",
        "outputId": "c2839c02-19fc-41d5-c8ba-11be35ab0d48"
      },
      "execution_count": 60,
      "outputs": [
        {
          "output_type": "stream",
          "name": "stdout",
          "text": [
            "[1 2 3 4]\n",
            "int16\n"
          ]
        }
      ]
    },
    {
      "cell_type": "code",
      "source": [
        "import numpy as np\n",
        "dizi =np.array([1,2,3,4,5])\n",
        "x=dizi.copy()\n",
        "dizi[0]=42\n",
        "print(dizi)\n",
        "print(x)"
      ],
      "metadata": {
        "colab": {
          "base_uri": "https://localhost:8080/"
        },
        "id": "7NhLlj_BR4bs",
        "outputId": "73087384-ec32-40cd-f8e7-4c0fec9fa088"
      },
      "execution_count": 62,
      "outputs": [
        {
          "output_type": "stream",
          "name": "stdout",
          "text": [
            "[42  2  3  4  5]\n",
            "[1 2 3 4 5]\n"
          ]
        }
      ]
    },
    {
      "cell_type": "code",
      "source": [
        "import numpy as np\n",
        "dizi=np.array([1,2,3,4,5])\n",
        "x=dizi.view()\n",
        "dizi[0]=42\n",
        "print(dizi)\n",
        "print(x)"
      ],
      "metadata": {
        "colab": {
          "base_uri": "https://localhost:8080/"
        },
        "id": "71w2M0amUN_I",
        "outputId": "e8f791fd-481e-4037-cb53-36a1665a2a93"
      },
      "execution_count": 63,
      "outputs": [
        {
          "output_type": "stream",
          "name": "stdout",
          "text": [
            "[42  2  3  4  5]\n",
            "[42  2  3  4  5]\n"
          ]
        }
      ]
    },
    {
      "cell_type": "code",
      "source": [
        "#Numpy da shape ozelligi\n",
        "#shape: şekil ,biçim\n",
        "#shape: tuple dondurur\n",
        "import numpy as np\n",
        "dizi=np.array([[1,2,3,4],[5,6,7,8]])\n",
        "print(dizi.shape)# dizinin sekli yani kac boyutta old\n",
        "#(2, 4) birinci boyutta iki eleman ikinci boyutta 4 eleman var demek bu\n",
        "\n"
      ],
      "metadata": {
        "colab": {
          "base_uri": "https://localhost:8080/"
        },
        "id": "vAVtAbP9VLNt",
        "outputId": "488a9a55-f8da-4cac-8c7e-5ffa3a22f31c"
      },
      "execution_count": 64,
      "outputs": [
        {
          "output_type": "stream",
          "name": "stdout",
          "text": [
            "(2, 4)\n"
          ]
        }
      ]
    },
    {
      "cell_type": "code",
      "source": [
        "#RESHAPE dizi biçimimizi değiştirmemizi sağlar   ELEMAN SAYISI UYGUN OLMALI\n",
        "#normalde shape tuple dı degstiremezdik\n",
        "import numpy as np\n",
        "dizi=np.array([1,2,3,4,5,6,7,8,9,10,11,12])\n",
        "x=dizi.reshape(4,3) #4 dizi 3 elemanı olan yazdırcak\n",
        "print(x)\n",
        "print(dizi.shape)"
      ],
      "metadata": {
        "colab": {
          "base_uri": "https://localhost:8080/"
        },
        "id": "Bgvbci2QYmOO",
        "outputId": "07eae9ee-7774-41ab-f2a8-275ae1d308e7"
      },
      "execution_count": 66,
      "outputs": [
        {
          "output_type": "stream",
          "name": "stdout",
          "text": [
            "[[ 1  2  3]\n",
            " [ 4  5  6]\n",
            " [ 7  8  9]\n",
            " [10 11 12]]\n",
            "(12,)\n"
          ]
        }
      ]
    },
    {
      "cell_type": "code",
      "source": [
        "import numpy as np\n",
        "dizi=np.array([1,2,3,4,5,6,7,8,9,10,11])\n",
        "x=dizi.reshape(4,3)\n",
        "print(x)"
      ],
      "metadata": {
        "colab": {
          "base_uri": "https://localhost:8080/",
          "height": 227
        },
        "id": "TVVfQRGJZkQ4",
        "outputId": "305f02e3-e1e9-4e1f-b21d-2a5b5038836a"
      },
      "execution_count": 68,
      "outputs": [
        {
          "output_type": "error",
          "ename": "ValueError",
          "evalue": "cannot reshape array of size 11 into shape (4,3)",
          "traceback": [
            "\u001b[0;31m---------------------------------------------------------------------------\u001b[0m",
            "\u001b[0;31mValueError\u001b[0m                                Traceback (most recent call last)",
            "\u001b[0;32m<ipython-input-68-a8a8fa94bcbf>\u001b[0m in \u001b[0;36m<cell line: 3>\u001b[0;34m()\u001b[0m\n\u001b[1;32m      1\u001b[0m \u001b[0;32mimport\u001b[0m \u001b[0mnumpy\u001b[0m \u001b[0;32mas\u001b[0m \u001b[0mnp\u001b[0m\u001b[0;34m\u001b[0m\u001b[0;34m\u001b[0m\u001b[0m\n\u001b[1;32m      2\u001b[0m \u001b[0mdizi\u001b[0m\u001b[0;34m=\u001b[0m\u001b[0mnp\u001b[0m\u001b[0;34m.\u001b[0m\u001b[0marray\u001b[0m\u001b[0;34m(\u001b[0m\u001b[0;34m[\u001b[0m\u001b[0;36m1\u001b[0m\u001b[0;34m,\u001b[0m\u001b[0;36m2\u001b[0m\u001b[0;34m,\u001b[0m\u001b[0;36m3\u001b[0m\u001b[0;34m,\u001b[0m\u001b[0;36m4\u001b[0m\u001b[0;34m,\u001b[0m\u001b[0;36m5\u001b[0m\u001b[0;34m,\u001b[0m\u001b[0;36m6\u001b[0m\u001b[0;34m,\u001b[0m\u001b[0;36m7\u001b[0m\u001b[0;34m,\u001b[0m\u001b[0;36m8\u001b[0m\u001b[0;34m,\u001b[0m\u001b[0;36m9\u001b[0m\u001b[0;34m,\u001b[0m\u001b[0;36m10\u001b[0m\u001b[0;34m,\u001b[0m\u001b[0;36m11\u001b[0m\u001b[0;34m]\u001b[0m\u001b[0;34m)\u001b[0m\u001b[0;34m\u001b[0m\u001b[0;34m\u001b[0m\u001b[0m\n\u001b[0;32m----> 3\u001b[0;31m \u001b[0mx\u001b[0m\u001b[0;34m=\u001b[0m\u001b[0mdizi\u001b[0m\u001b[0;34m.\u001b[0m\u001b[0mreshape\u001b[0m\u001b[0;34m(\u001b[0m\u001b[0;36m4\u001b[0m\u001b[0;34m,\u001b[0m\u001b[0;36m3\u001b[0m\u001b[0;34m)\u001b[0m\u001b[0;34m\u001b[0m\u001b[0;34m\u001b[0m\u001b[0m\n\u001b[0m\u001b[1;32m      4\u001b[0m \u001b[0mprint\u001b[0m\u001b[0;34m(\u001b[0m\u001b[0mx\u001b[0m\u001b[0;34m)\u001b[0m\u001b[0;34m\u001b[0m\u001b[0;34m\u001b[0m\u001b[0m\n",
            "\u001b[0;31mValueError\u001b[0m: cannot reshape array of size 11 into shape (4,3)"
          ]
        }
      ]
    },
    {
      "cell_type": "code",
      "source": [
        "import numpy as np\n",
        "dizi=np.array([1,2,3,4,5,6,7,8,9,10,11,12])\n",
        "x=dizi.reshape(2,3,2)\n",
        "print(x)"
      ],
      "metadata": {
        "colab": {
          "base_uri": "https://localhost:8080/"
        },
        "id": "Lcq9uO5IcpMb",
        "outputId": "302c9cd9-b1f2-4c72-a186-7eafa4d559f3"
      },
      "execution_count": 69,
      "outputs": [
        {
          "output_type": "stream",
          "name": "stdout",
          "text": [
            "[[[ 1  2]\n",
            "  [ 3  4]\n",
            "  [ 5  6]]\n",
            "\n",
            " [[ 7  8]\n",
            "  [ 9 10]\n",
            "  [11 12]]]\n"
          ]
        }
      ]
    },
    {
      "cell_type": "code",
      "source": [
        "import numpy as np\n",
        "dizi=np.array([1,2,3,4,5,6,7,8])\n",
        "x=dizi.reshape(2,2,-1)       #BURAYI SOR ????\n",
        "print(x)"
      ],
      "metadata": {
        "colab": {
          "base_uri": "https://localhost:8080/"
        },
        "id": "RxXG49JFdgBf",
        "outputId": "481318d7-474a-4584-f97d-cde192fa085d"
      },
      "execution_count": 70,
      "outputs": [
        {
          "output_type": "stream",
          "name": "stdout",
          "text": [
            "[[[1 2]\n",
            "  [3 4]]\n",
            "\n",
            " [[5 6]\n",
            "  [7 8]]]\n"
          ]
        }
      ]
    },
    {
      "cell_type": "code",
      "source": [
        "#İTERAYON: elemanlardan tek tek gecmke anlamına geliyo\n",
        "import numpy as np\n",
        "dizi=np.array([1,2,3])\n",
        "for x in dizi:\n",
        "  print(x)"
      ],
      "metadata": {
        "colab": {
          "base_uri": "https://localhost:8080/"
        },
        "id": "jmqydzDThICH",
        "outputId": "15821b64-2838-49ae-d273-9e963c40705e"
      },
      "execution_count": 71,
      "outputs": [
        {
          "output_type": "stream",
          "name": "stdout",
          "text": [
            "1\n",
            "2\n",
            "3\n"
          ]
        }
      ]
    },
    {
      "cell_type": "code",
      "source": [
        "import numpy as np\n",
        "dizi= np.array([[1,2,3],[4,5,6]])\n",
        "for x in dizi:\n",
        "  print(x)"
      ],
      "metadata": {
        "colab": {
          "base_uri": "https://localhost:8080/"
        },
        "id": "5311uAsEh0Ed",
        "outputId": "1ab8d84a-1e1c-48f0-9958-ed36058787cc"
      },
      "execution_count": 72,
      "outputs": [
        {
          "output_type": "stream",
          "name": "stdout",
          "text": [
            "[1 2 3]\n",
            "[4 5 6]\n"
          ]
        }
      ]
    },
    {
      "cell_type": "code",
      "source": [
        "import numpy as np\n",
        "dizi=np.array([[[1,2,3],[4,5,6]],[[5,6,7],[8,9,10]]])\n",
        "for x in dizi:\n",
        "  print(x)"
      ],
      "metadata": {
        "colab": {
          "base_uri": "https://localhost:8080/"
        },
        "id": "5aVGiJ7YiGWN",
        "outputId": "c8eb2f65-65cf-4828-ac7e-614ec7a59e35"
      },
      "execution_count": 75,
      "outputs": [
        {
          "output_type": "stream",
          "name": "stdout",
          "text": [
            "[[1 2 3]\n",
            " [4 5 6]]\n",
            "[[ 5  6  7]\n",
            " [ 8  9 10]]\n"
          ]
        }
      ]
    },
    {
      "cell_type": "code",
      "source": [
        "import numpy as np\n",
        "dizi=np.array([[1,2,3],[4,5,6]])\n",
        "for x in dizi:\n",
        "  for y in x :\n",
        "    print(y)       #3 boyuttada z eklersin yapmaya gerek yok"
      ],
      "metadata": {
        "colab": {
          "base_uri": "https://localhost:8080/"
        },
        "id": "qRBhq7Dhifdr",
        "outputId": "449cd9e4-cd34-41ee-9a59-64990f39e98d"
      },
      "execution_count": 76,
      "outputs": [
        {
          "output_type": "stream",
          "name": "stdout",
          "text": [
            "1\n",
            "2\n",
            "3\n",
            "4\n",
            "5\n",
            "6\n"
          ]
        }
      ]
    },
    {
      "cell_type": "code",
      "source": [
        "#İTERAYON: elemanlardan tek tek gecmke anlamına geliyo cok karmasık iterasyonlar olunca basitlessin diye\n",
        "#nditer() yardımcı fonk kullanılıyo karmasık iterasyonlarda\n",
        "import numpy as np\n",
        "dizi=np.array([[[1,2],[3,4],[5,6],[7,8]]])\n",
        "for x in np.nditer(dizi):\n",
        "  print(x)"
      ],
      "metadata": {
        "colab": {
          "base_uri": "https://localhost:8080/"
        },
        "id": "cN2N7d4yjBAB",
        "outputId": "086c71ae-0447-463b-aed9-f9d34befba21"
      },
      "execution_count": 77,
      "outputs": [
        {
          "output_type": "stream",
          "name": "stdout",
          "text": [
            "1\n",
            "2\n",
            "3\n",
            "4\n",
            "5\n",
            "6\n",
            "7\n",
            "8\n"
          ]
        }
      ]
    },
    {
      "cell_type": "code",
      "source": [
        "#farklı basamak belirterek iterasyon\n",
        "import numpy as np\n",
        "dizi = np.array([[1, 2, 3, 4], [5, 6, 7, 8]])\n",
        "for x in np.nditer(dizi[:, ::2]):  # step 2 : Bu ifade, tüm satırları seçer::2: Bu ifade, sütunlarda ikişer ikişer atlayarak elemanları seçer.\n",
        "  print(x)"
      ],
      "metadata": {
        "colab": {
          "base_uri": "https://localhost:8080/"
        },
        "id": "0W4_StBKj9-i",
        "outputId": "8d73dc88-feb5-40c8-8215-3a3ed44a15b1"
      },
      "execution_count": 82,
      "outputs": [
        {
          "output_type": "stream",
          "name": "stdout",
          "text": [
            "1\n",
            "3\n",
            "5\n",
            "7\n"
          ]
        }
      ]
    },
    {
      "cell_type": "code",
      "source": [
        "#Bazen sıralamak için  elemanın karsılık geldıgı ındex lazım olur\n",
        "#NDENUMERATE() kullanılır\n"
      ],
      "metadata": {
        "id": "0unjiPnXklV7"
      },
      "execution_count": 83,
      "outputs": []
    },
    {
      "cell_type": "code",
      "source": [
        "#JOIN birleştirme işlemi demek\n",
        "#concatenate() ile birlestirilir  ingde birlestırmek demek zaten\n",
        "import numpy as np\n",
        "dizi1 = np.array([1,2,3])\n",
        "dizi2 = np.array([4,5,6])\n",
        "dizi = np.concatenate((dizi1,dizi2)) # 2 parantez old unutma\n",
        "print(dizi)"
      ],
      "metadata": {
        "colab": {
          "base_uri": "https://localhost:8080/"
        },
        "id": "4mhkpMCDmIlh",
        "outputId": "836f6c8c-993a-47de-b896-43814de6d410"
      },
      "execution_count": 85,
      "outputs": [
        {
          "output_type": "stream",
          "name": "stdout",
          "text": [
            "[1 2 3 4 5 6]\n"
          ]
        }
      ]
    },
    {
      "cell_type": "code",
      "source": [
        "import numpy as np\n",
        "dizi1= np.array([[1,2],[3,4]])\n",
        "dizi2= np.array([[5,6],[7,8]])\n",
        "dizi= np.concatenate((dizi1,dizi2))\n",
        "print(dizi)"
      ],
      "metadata": {
        "colab": {
          "base_uri": "https://localhost:8080/"
        },
        "id": "4qFLs8qKmuGn",
        "outputId": "a6bf7234-9c52-465f-c6e6-6eb3e4580d5d"
      },
      "execution_count": 86,
      "outputs": [
        {
          "output_type": "stream",
          "name": "stdout",
          "text": [
            "[[1 2]\n",
            " [3 4]\n",
            " [5 6]\n",
            " [7 8]]\n"
          ]
        }
      ]
    },
    {
      "cell_type": "code",
      "source": [
        "import numpy as np\n",
        "dizi1= np.array([[1,2],[3,4]])\n",
        "dizi2= np.array([[5,6],[7,8]])\n",
        "dizi= np.concatenate((dizi1,dizi2), axis=1)\n",
        "print(dizi)"
      ],
      "metadata": {
        "colab": {
          "base_uri": "https://localhost:8080/"
        },
        "id": "jYKk_W-Anfy-",
        "outputId": "5b99a846-e338-4e43-e4c5-dc21ecd38b06"
      },
      "execution_count": 87,
      "outputs": [
        {
          "output_type": "stream",
          "name": "stdout",
          "text": [
            "[[1 2 5 6]\n",
            " [3 4 7 8]]\n"
          ]
        }
      ]
    },
    {
      "cell_type": "code",
      "source": [
        "#SPLİT parcalamak ayırmak demek\n",
        "import numpy as np\n",
        "dizi=np.array([1,2,3,4,5,6])\n",
        "x=np.array_split(dizi,3) #3 dizi içericek artık\n",
        "print(x)"
      ],
      "metadata": {
        "colab": {
          "base_uri": "https://localhost:8080/"
        },
        "id": "vumViCzwn6Gu",
        "outputId": "126d30ac-7705-48b2-a622-533c919720b2"
      },
      "execution_count": 88,
      "outputs": [
        {
          "output_type": "stream",
          "name": "stdout",
          "text": [
            "[array([1, 2]), array([3, 4]), array([5, 6])]\n"
          ]
        }
      ]
    },
    {
      "cell_type": "code",
      "source": [
        "import numpy as np\n",
        "dizi=np.array([1,2,3,4,5,6])\n",
        "x=np.array_split(dizi,3)\n",
        "print(x[0])\n",
        "print(x[2])"
      ],
      "metadata": {
        "colab": {
          "base_uri": "https://localhost:8080/"
        },
        "id": "wj2ZeG9loVzl",
        "outputId": "a245719a-81c7-4694-ab1b-ca39fd2ca4e6"
      },
      "execution_count": 90,
      "outputs": [
        {
          "output_type": "stream",
          "name": "stdout",
          "text": [
            "[1 2]\n",
            "[5 6]\n"
          ]
        }
      ]
    },
    {
      "cell_type": "code",
      "source": [
        "#WHERE :   degeri dizide arar  index değerini tuple içinde dondurur\n",
        "import numpy as np\n",
        "dizi= np.array([1,2,3,4,5,4,4])\n",
        "x=np.where(dizi==4)     #(array([3, 5, 6]),)  index yeri bunlarr\n",
        "print(x)"
      ],
      "metadata": {
        "colab": {
          "base_uri": "https://localhost:8080/"
        },
        "id": "0xPv0D4Wow0w",
        "outputId": "3eb14b37-4426-489b-aedc-67a406325a9d"
      },
      "execution_count": 91,
      "outputs": [
        {
          "output_type": "stream",
          "name": "stdout",
          "text": [
            "(array([3, 5, 6]),)\n"
          ]
        }
      ]
    },
    {
      "cell_type": "code",
      "source": [
        "import numpy as np\n",
        "dizi= np.array([1,2,3,4,5,6,7,8])\n",
        "x=np.where(dizi%2==0)\n",
        "print(x)"
      ],
      "metadata": {
        "colab": {
          "base_uri": "https://localhost:8080/"
        },
        "id": "GwoK2_O9pZ0i",
        "outputId": "954d6698-8972-4c84-d26d-27e3c3f9bb68"
      },
      "execution_count": 92,
      "outputs": [
        {
          "output_type": "stream",
          "name": "stdout",
          "text": [
            "(array([1, 3, 5, 7]),)\n"
          ]
        }
      ]
    },
    {
      "cell_type": "code",
      "source": [
        "import numpy as np\n",
        "dizi=np.array([[1,2,3],[4,5,6],[7,8,9],[10,11,12],[13,14,15],[16,17,18]])\n",
        "x=np.array_split(dizi,3 ,axis=1)\n",
        "print(x)"
      ],
      "metadata": {
        "colab": {
          "base_uri": "https://localhost:8080/"
        },
        "id": "N3DYOSEep0QT",
        "outputId": "f22686a5-fe30-439a-e22b-97e9392f3ce0"
      },
      "execution_count": 96,
      "outputs": [
        {
          "output_type": "stream",
          "name": "stdout",
          "text": [
            "[array([[ 1],\n",
            "       [ 4],\n",
            "       [ 7],\n",
            "       [10],\n",
            "       [13],\n",
            "       [16]]), array([[ 2],\n",
            "       [ 5],\n",
            "       [ 8],\n",
            "       [11],\n",
            "       [14],\n",
            "       [17]]), array([[ 3],\n",
            "       [ 6],\n",
            "       [ 9],\n",
            "       [12],\n",
            "       [15],\n",
            "       [18]])]\n"
          ]
        }
      ]
    },
    {
      "cell_type": "code",
      "source": [
        "#sort sıralama  :  azalan artan orjinal dizi degismez copy degisir\n",
        "import numpy as np\n",
        "dizi=np.array([3,2,0,1])\n",
        "print(np.sort(dizi)[::-1])  #[::-1]  azalan sekilde sıralasın diye"
      ],
      "metadata": {
        "colab": {
          "base_uri": "https://localhost:8080/"
        },
        "id": "rfwT5gcJqdFl",
        "outputId": "a9c57cd3-631a-4f84-c358-95293519c338"
      },
      "execution_count": 98,
      "outputs": [
        {
          "output_type": "stream",
          "name": "stdout",
          "text": [
            "[3 2 1 0]\n"
          ]
        }
      ]
    },
    {
      "cell_type": "code",
      "source": [
        "import numpy as np\n",
        "dizi= np.array(['airaz','bortakal','çilek','clma'])\n",
        "print(np.sort(dizi))"
      ],
      "metadata": {
        "colab": {
          "base_uri": "https://localhost:8080/"
        },
        "id": "BQ4SywVYrIsr",
        "outputId": "243b77ac-d250-41db-f0c8-3c4d28255dde"
      },
      "execution_count": 100,
      "outputs": [
        {
          "output_type": "stream",
          "name": "stdout",
          "text": [
            "['airaz' 'bortakal' 'clma' 'çilek']\n"
          ]
        }
      ]
    },
    {
      "cell_type": "code",
      "source": [
        "import numpy as np\n",
        "dizi= np.array([[3,2,4],[5,0,1]])\n",
        "print(np.sort(dizi))"
      ],
      "metadata": {
        "colab": {
          "base_uri": "https://localhost:8080/"
        },
        "id": "Alb860PMrqd-",
        "outputId": "275cb36a-c07c-4616-ad78-fc11684f0fc7"
      },
      "execution_count": 101,
      "outputs": [
        {
          "output_type": "stream",
          "name": "stdout",
          "text": [
            "[[2 3 4]\n",
            " [0 1 5]]\n"
          ]
        }
      ]
    },
    {
      "cell_type": "code",
      "source": [
        "#FİLTRELEME: diziden bazı elemanları alıp yeni dzi yaparsam filtreleme olur\n",
        "#boolean İNDEX list kullanılıyo\n",
        "#dogruysa fıltrelenıs dızıde olur deılse filrelenmis diziden cıkar\n",
        "import numpy as np\n",
        "dizi=np.array([41,42,43,44])\n",
        "x=[True,False,True,True]\n",
        "filtre=dizi[x]\n",
        "print(filtre)"
      ],
      "metadata": {
        "colab": {
          "base_uri": "https://localhost:8080/"
        },
        "id": "fLwiEQPpsBwU",
        "outputId": "a8817070-050d-4194-81bc-c086b7f2ee5d"
      },
      "execution_count": 104,
      "outputs": [
        {
          "output_type": "stream",
          "name": "stdout",
          "text": [
            "[41 43 44]\n"
          ]
        }
      ]
    },
    {
      "cell_type": "code",
      "source": [
        "#Filtre dizisi olusturma\n",
        "import numpy as np\n",
        "dizi=np.array([41,42,43,44])\n",
        "x=dizi>42\n",
        "filtre=dizi[x]\n",
        "print(x)\n",
        "print(filtre)\n"
      ],
      "metadata": {
        "colab": {
          "base_uri": "https://localhost:8080/"
        },
        "id": "J4-fJZ1cs3Xc",
        "outputId": "3f9d3bfb-28ff-48e0-db58-0176a7f75af1"
      },
      "execution_count": 107,
      "outputs": [
        {
          "output_type": "stream",
          "name": "stdout",
          "text": [
            "[False False  True  True]\n",
            "[43 44]\n"
          ]
        }
      ]
    },
    {
      "cell_type": "code",
      "source": [
        "#rastgele sayı için randint() meetodu kullanılır\n",
        "from numpy import random\n",
        "x= random.randint(100)\n",
        "print(x)"
      ],
      "metadata": {
        "colab": {
          "base_uri": "https://localhost:8080/"
        },
        "id": "gfMuDkcstvmN",
        "outputId": "623ee17e-d56c-4dea-837e-0b65e48a54e6"
      },
      "execution_count": 111,
      "outputs": [
        {
          "output_type": "stream",
          "name": "stdout",
          "text": [
            "27\n"
          ]
        }
      ]
    },
    {
      "cell_type": "code",
      "source": [
        "from numpy import random\n",
        "x=random.rand() #float tipinde olsun diye\n",
        "print(x)"
      ],
      "metadata": {
        "colab": {
          "base_uri": "https://localhost:8080/"
        },
        "id": "cODP1R6suTcV",
        "outputId": "2f76b775-f40f-4bd2-fa08-79dfc75dfdc5"
      },
      "execution_count": 114,
      "outputs": [
        {
          "output_type": "stream",
          "name": "stdout",
          "text": [
            "0.29013619812717306\n"
          ]
        }
      ]
    },
    {
      "cell_type": "code",
      "source": [
        "#Diziden ratgele sayı olusturma\n",
        "#choice() metodu : diziyi alcak ratgele dondurcek bi degeri\n",
        "from numpy import random\n",
        "x= random.choice([3,5,7,9])\n",
        "print(x)\n"
      ],
      "metadata": {
        "colab": {
          "base_uri": "https://localhost:8080/"
        },
        "id": "2zJOH8JHugNy",
        "outputId": "eb01ecd9-ebe1-4ef3-b91e-4c8c56a47470"
      },
      "execution_count": 119,
      "outputs": [
        {
          "output_type": "stream",
          "name": "stdout",
          "text": [
            "7\n"
          ]
        }
      ]
    },
    {
      "cell_type": "code",
      "source": [
        "from numpy import random\n",
        "x= random.choice([3,5,7,9],size=(3,5)) #3 satır 5 sutun yanı\n",
        "print(x)\n"
      ],
      "metadata": {
        "colab": {
          "base_uri": "https://localhost:8080/"
        },
        "id": "9b4U_2m7u7Jl",
        "outputId": "56b00b56-4660-4dab-93bd-0a03f6b3cffa"
      },
      "execution_count": 120,
      "outputs": [
        {
          "output_type": "stream",
          "name": "stdout",
          "text": [
            "[[5 9 3 3 3]\n",
            " [5 5 9 7 9]\n",
            " [7 7 7 9 9]]\n"
          ]
        }
      ]
    },
    {
      "cell_type": "code",
      "source": [
        "from numpy import random\n",
        "x=random.randint(100,size=(5))\n",
        "print(x)"
      ],
      "metadata": {
        "colab": {
          "base_uri": "https://localhost:8080/"
        },
        "id": "pXnJlflKvPRj",
        "outputId": "a1e2467f-1366-4a64-d42a-36c9625a1361"
      },
      "execution_count": 122,
      "outputs": [
        {
          "output_type": "stream",
          "name": "stdout",
          "text": [
            "[55 33  2 63 36]\n"
          ]
        }
      ]
    },
    {
      "cell_type": "code",
      "source": [
        "#Normal (gaussian) dagılım\n",
        "#normal() metodu\n",
        "#verilen deger etrafında rastgele deger\n",
        "#loc:ort(can tepe nokt)\n",
        "#scale: standart sapma\n",
        "#size:dizinin boyutu"
      ],
      "metadata": {
        "id": "SxDzrHYQv2xn"
      },
      "execution_count": 123,
      "outputs": []
    },
    {
      "cell_type": "code",
      "source": [
        "#shuffle() dizi elemanları yerleşim duzeni\n",
        "#orjinal dizi degisir\n",
        "from numpy import random\n",
        "import numpy as np\n",
        "dizi=np.array([1,2,3,4,5])\n",
        "random.shuffle(dizi)\n",
        "print(dizi)"
      ],
      "metadata": {
        "colab": {
          "base_uri": "https://localhost:8080/"
        },
        "id": "bMfpfJabwfzP",
        "outputId": "965e302a-38b6-47f6-9d09-16cb215f5487"
      },
      "execution_count": 125,
      "outputs": [
        {
          "output_type": "stream",
          "name": "stdout",
          "text": [
            "[3 2 5 4 1]\n"
          ]
        }
      ]
    },
    {
      "cell_type": "code",
      "source": [
        "from numpy import random\n",
        "x= random.normal(loc=5,scale=2,size=(3,5))\n",
        "print(x)"
      ],
      "metadata": {
        "colab": {
          "base_uri": "https://localhost:8080/"
        },
        "id": "WhIgpAc2w_ng",
        "outputId": "def4adea-ab7e-4c13-f1f2-0846ace413c4"
      },
      "execution_count": 126,
      "outputs": [
        {
          "output_type": "stream",
          "name": "stdout",
          "text": [
            "[[4.13559079 4.26549634 4.09306547 6.45877586 3.78246478]\n",
            " [5.77011282 3.28340703 4.87057236 4.29826215 5.06741805]\n",
            " [5.63260493 6.39886604 1.12162617 6.77907113 3.82481068]]\n"
          ]
        }
      ]
    },
    {
      "cell_type": "code",
      "source": [],
      "metadata": {
        "id": "d4EDafx_xUTR"
      },
      "execution_count": null,
      "outputs": []
    }
  ]
}